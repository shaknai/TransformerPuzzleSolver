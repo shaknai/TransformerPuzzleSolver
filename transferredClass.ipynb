{
 "cells": [
  {
   "cell_type": "code",
   "execution_count": 1,
   "id": "3582ddea",
   "metadata": {},
   "outputs": [],
   "source": [
    "from torchvision import transforms\n",
    "import time\n",
    "import utils\n",
    "import random\n",
    "import numpy\n",
    "import torch.nn.functional as F\n",
    "import torch\n",
    "import torch.nn as nn\n",
    "import torchvision\n",
    "trainfile = '/home/labs/testing/class65'\n",
    "import os\n",
    "import sys\n",
    "sys.path.append(os.path.dirname(os.path.expanduser(trainfile)))\n",
    "from vision_transformer import *\n",
    "from JigsawImageLoader import *\n"
   ]
  },
  {
   "cell_type": "code",
   "execution_count": 2,
   "id": "f7a37825",
   "metadata": {},
   "outputs": [],
   "source": [
    "class classHead(nn.Module):\n",
    "    def __init__(self, in_dim, num_classes):\n",
    "        super().__init__()\n",
    "        self.ln1=nn.LayerNorm(in_dim)\n",
    "        self.lin1=nn.Linear(in_dim,num_classes)\n",
    "        #self.sm=nn.Softmax(dim=1)\n",
    "        self.apply(self._init_weights)\n",
    "\n",
    "    def _init_weights(self, m):\n",
    "        if isinstance(m, nn.Linear):\n",
    "            trunc_normal_(m.weight, std=.02)\n",
    "            if isinstance(m, nn.Linear) and m.bias is not None:\n",
    "                nn.init.constant_(m.bias, 0)\n",
    "\n",
    "    def forward(self, x,mask=None,ind_hidden=None):\n",
    "        x=x[:,1,:]\n",
    "        x=x.squeeze()\n",
    "        x=self.ln1(x)\n",
    "        x = self.lin1(x)\n",
    "        #x = self.sm(x)\n",
    "        return x"
   ]
  },
  {
   "cell_type": "code",
   "execution_count": null,
   "id": "f3af6dda",
   "metadata": {},
   "outputs": [],
   "source": []
  },
  {
   "cell_type": "code",
   "execution_count": 5,
   "id": "460e3247",
   "metadata": {},
   "outputs": [],
   "source": [
    "device = torch.device('cuda' if torch.cuda.is_available() else 'cpu')\n",
    "model=VisionTransformer()\n",
    "model = model.to(device)\n",
    "checkpoint=torch.load('checkpoint196.pth')\n",
    "state_dict=checkpoint['model_sd']\n",
    "red_state_dict={}\n",
    "state_dict = {k.replace(\"backbone.\", \"\"): v for k, v in state_dict.items()}\n",
    "state_dict = {k: v for k, v in state_dict.items() if not k.startswith(\"head\")}\n",
    "model.load_state_dict(state_dict, strict=False)\n",
    "for param in model.parameters():\n",
    "    param.requires_grad=False\n",
    "headClass=classHead(in_dim=768,num_classes=1000)\n",
    "model= utils.MultiCropWrapper(model,headClass)\n"
   ]
  }
 ],
 "metadata": {
  "kernelspec": {
   "display_name": "Python 3 (ipykernel)",
   "language": "python",
   "name": "python3"
  },
  "language_info": {
   "codemirror_mode": {
    "name": "ipython",
    "version": 3
   },
   "file_extension": ".py",
   "mimetype": "text/x-python",
   "name": "python",
   "nbconvert_exporter": "python",
   "pygments_lexer": "ipython3",
   "version": "3.8.12"
  }
 },
 "nbformat": 4,
 "nbformat_minor": 5
}
